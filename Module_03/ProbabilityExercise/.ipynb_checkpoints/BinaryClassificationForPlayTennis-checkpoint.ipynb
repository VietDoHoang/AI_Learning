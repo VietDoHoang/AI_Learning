{
 "cells": [
  {
   "cell_type": "code",
   "execution_count": 1,
   "id": "297a008d",
   "metadata": {},
   "outputs": [],
   "source": [
    "import numpy as np"
   ]
  },
  {
   "cell_type": "code",
   "execution_count": 6,
   "id": "8b67dae7",
   "metadata": {},
   "outputs": [
    {
     "name": "stdout",
     "output_type": "stream",
     "text": [
      "10\n"
     ]
    }
   ],
   "source": [
    "def create_train_data():    \n",
    "    data = [['Sunny','Hot','High' ,'Weak' ,'no'],\n",
    "            ['Sunny','Hot' ,'High' ,'Strong' ,'no'],\n",
    "            ['Overcast' ,'Hot','High','Weak' ,'yes'],\n",
    "            ['Rain' ,'Mild','High','Weak','yes'],\n",
    "            ['Rain','Cool','Normal' ,'Weak','yes'],\n",
    "            ['Rain','Cool' ,'Normal','Strong','no'],\n",
    "            ['Overcast' ,'Cool','Normal' ,'Strong','yes'],\n",
    "            ['Overcast','Mild' ,'High' ,'Weak','no'],\n",
    "            ['Sunny','Cool' ,'Normal','Weak','yes'],\n",
    "            ['Rain','Mild','Normal','Weak' ,'yes']]\n",
    "    return np.array(data)\n",
    "train_data = create_train_data()\n",
    "print(len(train_data))\n",
    "# print(da)"
   ]
  },
  {
   "cell_type": "code",
   "execution_count": 42,
   "id": "9e4cc817",
   "metadata": {},
   "outputs": [
    {
     "name": "stdout",
     "output_type": "stream",
     "text": [
      "[0.4 0.6]\n",
      "2\n"
     ]
    }
   ],
   "source": [
    "def compute_prior_probablity ( train_data ):\n",
    "    y_unique = ['no', 'yes']\n",
    "    prior_probability = np.zeros(len( y_unique ))\n",
    "#     print(prior_probability)\n",
    "    for i in range(len(y_unique)):\n",
    "        denominator = len(train_data)\n",
    "#         print(np(np.where(train_data[:,4]==[y_unique[i]],1,0)))\n",
    "        prior_probability[i] = np.sum(np.where(train_data[:,4]==[y_unique[i]],1,0))/denominator\n",
    "\n",
    "    return prior_probability\n",
    "# a = np.where(train_data[:,4]=='no',1,0)\n",
    "# print(a)\n",
    "\n",
    "a= compute_prior_probablity(train_data)\n",
    "print(a)\n",
    "# print(train_data[:,0])\n",
    "b = np.where((train_data[:,4]=='no') & (train_data[:,0]=='Sunny'))\n",
    "print(len(b[0]))\n",
    "# print(len(b))"
   ]
  },
  {
   "cell_type": "code",
   "execution_count": 57,
   "id": "267210c0",
   "metadata": {},
   "outputs": [],
   "source": [
    "def compute_conditional_probability ( train_data ):\n",
    "    y_unique = ['no', 'yes']\n",
    "    conditional_probability = []\n",
    "    list_x_name = []\n",
    "    for i in range (0, train_data.shape [1]-1) :\n",
    "        x_unique = np.unique( train_data [:,i])  \n",
    "#         print(x_unique)\n",
    "        list_x_name.append( x_unique )\n",
    "        \n",
    "        x_conditional_probability = np.zeros((len(y_unique),len(x_unique)))\n",
    "\n",
    "        row, column =   x_conditional_probability.shape\n",
    "#         print(row,column)\n",
    "        for m in range(row):\n",
    "            for n in range(column):\n",
    "                x_conditional_probability[m][n] = len(np.where((train_data[:,4]==y_unique[m]) & (train_data[:,i]==x_unique[n]))[0])/len(np.where(train_data[:,4]==y_unique[m])[0])\n",
    "#                 print(x_conditional_probability)\n",
    "#         print(abc)\n",
    "\n",
    "        conditional_probability.append( x_conditional_probability )\n",
    "#         print(conditional_probability)\n",
    "#         print(list_x_name)\n",
    "#         print(abc)\n",
    "    return conditional_probability , list_x_name"
   ]
  },
  {
   "cell_type": "code",
   "execution_count": 52,
   "id": "6b2ff78f",
   "metadata": {},
   "outputs": [
    {
     "name": "stdout",
     "output_type": "stream",
     "text": [
      "[array([[0.25      , 0.25      , 0.5       ],\n",
      "       [0.33333333, 0.5       , 0.16666667]])]\n",
      "[array(['Overcast', 'Rain', 'Sunny'], dtype='<U8')]\n",
      "[array([[0.25      , 0.25      , 0.5       ],\n",
      "       [0.33333333, 0.5       , 0.16666667]]), array([[0.25      , 0.5       , 0.25      ],\n",
      "       [0.5       , 0.16666667, 0.33333333]])]\n",
      "[array(['Overcast', 'Rain', 'Sunny'], dtype='<U8'), array(['Cool', 'Hot', 'Mild'], dtype='<U8')]\n",
      "[array([[0.25      , 0.25      , 0.5       ],\n",
      "       [0.33333333, 0.5       , 0.16666667]]), array([[0.25      , 0.5       , 0.25      ],\n",
      "       [0.5       , 0.16666667, 0.33333333]]), array([[0.75      , 0.25      ],\n",
      "       [0.33333333, 0.66666667]])]\n",
      "[array(['Overcast', 'Rain', 'Sunny'], dtype='<U8'), array(['Cool', 'Hot', 'Mild'], dtype='<U8'), array(['High', 'Normal'], dtype='<U8')]\n",
      "[array([[0.25      , 0.25      , 0.5       ],\n",
      "       [0.33333333, 0.5       , 0.16666667]]), array([[0.25      , 0.5       , 0.25      ],\n",
      "       [0.5       , 0.16666667, 0.33333333]]), array([[0.75      , 0.25      ],\n",
      "       [0.33333333, 0.66666667]]), array([[0.5       , 0.5       ],\n",
      "       [0.16666667, 0.83333333]])]\n",
      "[array(['Overcast', 'Rain', 'Sunny'], dtype='<U8'), array(['Cool', 'Hot', 'Mild'], dtype='<U8'), array(['High', 'Normal'], dtype='<U8'), array(['Strong', 'Weak'], dtype='<U8')]\n",
      "x1 =  ['Overcast' 'Rain' 'Sunny']\n",
      "x2 =  ['Cool' 'Hot' 'Mild']\n",
      "x3 =  ['High' 'Normal']\n",
      "x4 =  ['Strong' 'Weak']\n"
     ]
    }
   ],
   "source": [
    "train_data = create_train_data ()\n",
    "_, list_x_name = compute_conditional_probability(train_data )\n",
    "print (\"x1 = \",list_x_name [0])\n",
    "print (\"x2 = \",list_x_name [1])\n",
    "print (\"x3 = \",list_x_name [2])\n",
    "print (\"x4 = \",list_x_name [3])"
   ]
  },
  {
   "cell_type": "code",
   "execution_count": 53,
   "id": "81fd832f",
   "metadata": {},
   "outputs": [],
   "source": [
    "def getIndexFromValue ( featureName , listFeatures ):\n",
    "    return np.where( listFeatures == featureName ) [0][0]"
   ]
  },
  {
   "cell_type": "code",
   "execution_count": 62,
   "id": "fd2ddeaf",
   "metadata": {},
   "outputs": [
    {
     "name": "stdout",
     "output_type": "stream",
     "text": [
      "['Overcast' 'Rain' 'Sunny']\n",
      "0 1 2\n"
     ]
    }
   ],
   "source": [
    "train_data = create_train_data ()\n",
    "_, list_x_name = compute_conditional_probability ( train_data )\n",
    "print(list_x_name[0])\n",
    "outlook = list_x_name [0]\n",
    "i1 = getIndexFromValue(\"Overcast\", outlook )\n",
    "i2 = getIndexFromValue(\"Rain\", outlook )\n",
    "i3 = getIndexFromValue(\"Sunny\", outlook )\n",
    "\n",
    "print (i1 , i2 , i3)"
   ]
  },
  {
   "cell_type": "code",
   "execution_count": 70,
   "id": "35e697a3",
   "metadata": {},
   "outputs": [
    {
     "name": "stdout",
     "output_type": "stream",
     "text": [
      "P(’Outlook ’=’ Sunny ’| Play Tennis ’=’Yes ’) =  0.17\n",
      "P(’Outlook ’=’ Sunny ’| Play Tennis ’=’No ’) =  0.5\n"
     ]
    }
   ],
   "source": [
    "train_data = create_train_data ()\n",
    "conditional_probability , list_x_name = compute_conditional_probability(train_data )\n",
    "x1= getIndexFromValue (\"Sunny\",list_x_name [0])\n",
    "print(\"P(’Outlook ’=’ Sunny ’| Play Tennis ’=’Yes ’) = \", np.round(conditional_probability[0][1 , x1 ] ,2))\n",
    "# x1= getIndexFromValue(\"Sunny\",list_x_name [0])\n",
    "print(\"P(’Outlook ’=’ Sunny ’| Play Tennis ’=’No ’) = \", np.round(conditional_probability [0][0 , x1 ] ,2))"
   ]
  },
  {
   "cell_type": "code",
   "execution_count": 74,
   "id": "c23b03e3",
   "metadata": {},
   "outputs": [],
   "source": [
    "# ##########################\n",
    "# Train Naive Bayes Model\n",
    "# ##########################\n",
    "def train_naive_bayes ( train_data ):\n",
    "    # Step 1: Calculate Prior Probability\n",
    "    y_unique = ['no', 'yes']\n",
    "    prior_probability = compute_prior_probablity ( train_data )\n",
    "\n",
    "    # Step 2: Calculate Conditional Probability\n",
    "    conditional_probability , list_x_name = compute_conditional_probability (\n",
    "    train_data )\n",
    "\n",
    "    return prior_probability , conditional_probability , list_x_name\n",
    "def prediction_play_tennis (X, list_x_name , prior_probability , conditional_probability ):\n",
    "    x1= getIndexFromValue (X[0] , list_x_name [0])\n",
    "    x2= getIndexFromValue (X[1] , list_x_name [1])\n",
    "    x3= getIndexFromValue (X[2] , list_x_name [2])\n",
    "    x4= getIndexFromValue (X[3] , list_x_name [3])\n",
    "\n",
    "    p0 = prior_probability[0]\\\n",
    "    * conditional_probability[0][0,x1]\\\n",
    "    * conditional_probability[1][0,x2]\\\n",
    "    * conditional_probability[2][0,x3]\\\n",
    "    * conditional_probability[3][0,x4]\n",
    "    p1 = prior_probability[0]\\\n",
    "    * conditional_probability[0][1,x1]\\\n",
    "    * conditional_probability[1][1,x2]\\\n",
    "    * conditional_probability[2][1,x3]\\\n",
    "    * conditional_probability[3][1,x4]\n",
    "\n",
    "    if p0 >p1:\n",
    "        y_pred =0\n",
    "    else :\n",
    "        y_pred =1\n",
    "    return y_pred"
   ]
  },
  {
   "cell_type": "code",
   "execution_count": 82,
   "id": "6080f928",
   "metadata": {},
   "outputs": [
    {
     "name": "stdout",
     "output_type": "stream",
     "text": [
      "0\n",
      "Ad should not go!\n"
     ]
    }
   ],
   "source": [
    "X = ['Sunny','Cool','High','Strong']\n",
    "data = create_train_data ()\n",
    "prior_probability , conditional_probability , list_x_name = train_naive_bayes ( data )\n",
    "pred = prediction_play_tennis (X, list_x_name , prior_probability ,\n",
    "conditional_probability )\n",
    "print(pred)\n",
    "if( pred ):\n",
    "    print (\"Ad should go!\")\n",
    "else :\n",
    "    print (\"Ad should not go!\")"
   ]
  }
 ],
 "metadata": {
  "kernelspec": {
   "display_name": "Python 3 (ipykernel)",
   "language": "python",
   "name": "python3"
  },
  "language_info": {
   "codemirror_mode": {
    "name": "ipython",
    "version": 3
   },
   "file_extension": ".py",
   "mimetype": "text/x-python",
   "name": "python",
   "nbconvert_exporter": "python",
   "pygments_lexer": "ipython3",
   "version": "3.10.9"
  }
 },
 "nbformat": 4,
 "nbformat_minor": 5
}
