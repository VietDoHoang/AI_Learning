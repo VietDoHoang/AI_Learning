{
 "cells": [
  {
   "cell_type": "code",
   "execution_count": 8,
   "id": "1dbf5505",
   "metadata": {},
   "outputs": [],
   "source": [
    "import numpy as np\n",
    "import math"
   ]
  },
  {
   "cell_type": "code",
   "execution_count": 4,
   "id": "3e32b4a0",
   "metadata": {},
   "outputs": [],
   "source": [
    "# def create_train_data():\n",
    "#     data = [[1.4,0],\n",
    "#             [1.0,0],\n",
    "#             [1.3,0],\n",
    "#             [1.9,0],\n",
    "#             [2.0,0],\n",
    "#             [1.8,0],\n",
    "#             [3.0,1],\n",
    "#             [3.8,1],\n",
    "#             [4.1,1],\n",
    "#             [3.9,1],\n",
    "#             [4.2,1],\n",
    "#             [3.4,1]\n",
    "#            ]\n",
    "#     return np.array(data)"
   ]
  },
  {
   "cell_type": "code",
   "execution_count": 5,
   "id": "6ca0d4e7",
   "metadata": {},
   "outputs": [],
   "source": [
    "# data = create_train_data()\n"
   ]
  },
  {
   "cell_type": "code",
   "execution_count": 7,
   "id": "f7db80f4",
   "metadata": {},
   "outputs": [
    {
     "name": "stdout",
     "output_type": "stream",
     "text": [
      "1.5666666666666667\n",
      "0.1288888888888889\n"
     ]
    }
   ],
   "source": [
    "data_label_0 = data[:6,0]\n",
    "mean_label_0 = np.mean(data_label_0[:])\n",
    "print(mean_label_0)\n",
    "variance_0 = np.mean((data_label_0- mean_label_0)**2)\n",
    "print(variance_0)"
   ]
  },
  {
   "cell_type": "code",
   "execution_count": 8,
   "id": "40b76d0a",
   "metadata": {},
   "outputs": [
    {
     "name": "stdout",
     "output_type": "stream",
     "text": [
      "[3.  3.8 4.1 3.9 4.2 3.4]\n",
      "3.733333333333333\n",
      "0.1722222222222222\n"
     ]
    }
   ],
   "source": [
    "# data_label_1 = data[6:,0]\n",
    "# mean_label_1 = np.mean(data_label_1[:])\n",
    "# variance_1 = np.mean((data_label_1- mean_label_1)**2)\n",
    "# print(mean_label_1)\n",
    "# print(variance_1)"
   ]
  },
  {
   "cell_type": "code",
   "execution_count": 10,
   "id": "47f52317",
   "metadata": {},
   "outputs": [
    {
     "name": "stdout",
     "output_type": "stream",
     "text": [
      "3.141592653589793\n"
     ]
    }
   ],
   "source": [
    "print(math.pi)"
   ]
  },
  {
   "cell_type": "code",
   "execution_count": 37,
   "id": "6cce6e60",
   "metadata": {},
   "outputs": [
    {
     "ename": "NameError",
     "evalue": "name 'mean_label_0' is not defined",
     "output_type": "error",
     "traceback": [
      "\u001b[1;31m---------------------------------------------------------------------------\u001b[0m",
      "\u001b[1;31mNameError\u001b[0m                                 Traceback (most recent call last)",
      "Cell \u001b[1;32mIn[37], line 5\u001b[0m\n\u001b[0;32m      3\u001b[0m     \u001b[38;5;28;01mreturn\u001b[39;00m result\n\u001b[0;32m      4\u001b[0m x \u001b[38;5;241m=\u001b[39m \u001b[38;5;241m3.4\u001b[39m\n\u001b[1;32m----> 5\u001b[0m fx0\u001b[38;5;241m=\u001b[39m gauss(\u001b[38;5;241m3.4\u001b[39m,\u001b[43mmean_label_0\u001b[49m,variance_0)\n\u001b[0;32m      6\u001b[0m fx1\u001b[38;5;241m=\u001b[39m gauss(\u001b[38;5;241m3.4\u001b[39m,mean_label_1,variance_1)\n\u001b[0;32m      8\u001b[0m \u001b[38;5;28mprint\u001b[39m(fx0 \u001b[38;5;241m*\u001b[39m \u001b[38;5;241m6\u001b[39m\u001b[38;5;241m/\u001b[39m\u001b[38;5;241m12\u001b[39m)\n",
      "\u001b[1;31mNameError\u001b[0m: name 'mean_label_0' is not defined"
     ]
    }
   ],
   "source": [
    "def gauss(x,mean,variance):\n",
    "    result= (1/(math.sqrt(variance*2*math.pi))) * math.exp( (-1/(2*variance))* ((x-mean)**2) )\n",
    "    return result\n",
    "x = 3.4\n",
    "fx0= gauss(3.4,mean_label_0,variance_0)\n",
    "fx1= gauss(3.4,mean_label_1,variance_1)\n",
    "\n",
    "print(fx0 * 6/12)\n",
    "print(fx1 * 6/12)"
   ]
  },
  {
   "cell_type": "code",
   "execution_count": 9,
   "id": "acf6ef1c",
   "metadata": {},
   "outputs": [],
   "source": [
    "def create_train_data_iris():  \n",
    "    f = open(\"iris.data.txt\",'r')\n",
    "    data =[]\n",
    "    for line in f:\n",
    "        lines = line.split(',')\n",
    "        row = []\n",
    "        for idx,arr in enumerate(lines):\n",
    "            if idx !=4 :\n",
    "                row.append(float(arr))\n",
    "            else:\n",
    "                arr= arr.replace('\\n','')\n",
    "                row.append(arr)\n",
    "        data.append(row)\n",
    "    f.close()\n",
    "    return np.array(data)"
   ]
  },
  {
   "cell_type": "code",
   "execution_count": 19,
   "id": "993ae07b",
   "metadata": {},
   "outputs": [
    {
     "name": "stdout",
     "output_type": "stream",
     "text": [
      "150\n",
      "(150, 5)\n",
      "[['5.1' '3.5' '1.4' '0.2' 'Iris-setosa']\n",
      " ['4.9' '3.0' '1.4' '0.2' 'Iris-setosa']\n",
      " ['4.7' '3.2' '1.3' '0.2' 'Iris-setosa']\n",
      " ['4.6' '3.1' '1.5' '0.2' 'Iris-setosa']\n",
      " ['5.0' '3.6' '1.4' '0.2' 'Iris-setosa']\n",
      " ['5.4' '3.9' '1.7' '0.4' 'Iris-setosa']\n",
      " ['4.6' '3.4' '1.4' '0.3' 'Iris-setosa']\n",
      " ['5.0' '3.4' '1.5' '0.2' 'Iris-setosa']\n",
      " ['4.4' '2.9' '1.4' '0.2' 'Iris-setosa']\n",
      " ['4.9' '3.1' '1.5' '0.1' 'Iris-setosa']\n",
      " ['5.4' '3.7' '1.5' '0.2' 'Iris-setosa']\n",
      " ['4.8' '3.4' '1.6' '0.2' 'Iris-setosa']\n",
      " ['4.8' '3.0' '1.4' '0.1' 'Iris-setosa']\n",
      " ['4.3' '3.0' '1.1' '0.1' 'Iris-setosa']\n",
      " ['5.8' '4.0' '1.2' '0.2' 'Iris-setosa']\n",
      " ['5.7' '4.4' '1.5' '0.4' 'Iris-setosa']\n",
      " ['5.4' '3.9' '1.3' '0.4' 'Iris-setosa']\n",
      " ['5.1' '3.5' '1.4' '0.3' 'Iris-setosa']\n",
      " ['5.7' '3.8' '1.7' '0.3' 'Iris-setosa']\n",
      " ['5.1' '3.8' '1.5' '0.3' 'Iris-setosa']\n",
      " ['5.4' '3.4' '1.7' '0.2' 'Iris-setosa']\n",
      " ['5.1' '3.7' '1.5' '0.4' 'Iris-setosa']\n",
      " ['4.6' '3.6' '1.0' '0.2' 'Iris-setosa']\n",
      " ['5.1' '3.3' '1.7' '0.5' 'Iris-setosa']\n",
      " ['4.8' '3.4' '1.9' '0.2' 'Iris-setosa']\n",
      " ['5.0' '3.0' '1.6' '0.2' 'Iris-setosa']\n",
      " ['5.0' '3.4' '1.6' '0.4' 'Iris-setosa']\n",
      " ['5.2' '3.5' '1.5' '0.2' 'Iris-setosa']\n",
      " ['5.2' '3.4' '1.4' '0.2' 'Iris-setosa']\n",
      " ['4.7' '3.2' '1.6' '0.2' 'Iris-setosa']\n",
      " ['4.8' '3.1' '1.6' '0.2' 'Iris-setosa']\n",
      " ['5.4' '3.4' '1.5' '0.4' 'Iris-setosa']\n",
      " ['5.2' '4.1' '1.5' '0.1' 'Iris-setosa']\n",
      " ['5.5' '4.2' '1.4' '0.2' 'Iris-setosa']\n",
      " ['4.9' '3.1' '1.5' '0.1' 'Iris-setosa']\n",
      " ['5.0' '3.2' '1.2' '0.2' 'Iris-setosa']\n",
      " ['5.5' '3.5' '1.3' '0.2' 'Iris-setosa']\n",
      " ['4.9' '3.1' '1.5' '0.1' 'Iris-setosa']\n",
      " ['4.4' '3.0' '1.3' '0.2' 'Iris-setosa']\n",
      " ['5.1' '3.4' '1.5' '0.2' 'Iris-setosa']\n",
      " ['5.0' '3.5' '1.3' '0.3' 'Iris-setosa']\n",
      " ['4.5' '2.3' '1.3' '0.3' 'Iris-setosa']\n",
      " ['4.4' '3.2' '1.3' '0.2' 'Iris-setosa']\n",
      " ['5.0' '3.5' '1.6' '0.6' 'Iris-setosa']\n",
      " ['5.1' '3.8' '1.9' '0.4' 'Iris-setosa']\n",
      " ['4.8' '3.0' '1.4' '0.3' 'Iris-setosa']\n",
      " ['5.1' '3.8' '1.6' '0.2' 'Iris-setosa']\n",
      " ['4.6' '3.2' '1.4' '0.2' 'Iris-setosa']\n",
      " ['5.3' '3.7' '1.5' '0.2' 'Iris-setosa']\n",
      " ['5.0' '3.3' '1.4' '0.2' 'Iris-setosa']\n",
      " ['7.0' '3.2' '4.7' '1.4' 'Iris-versicolor']\n",
      " ['6.4' '3.2' '4.5' '1.5' 'Iris-versicolor']\n",
      " ['6.9' '3.1' '4.9' '1.5' 'Iris-versicolor']\n",
      " ['5.5' '2.3' '4.0' '1.3' 'Iris-versicolor']\n",
      " ['6.5' '2.8' '4.6' '1.5' 'Iris-versicolor']\n",
      " ['5.7' '2.8' '4.5' '1.3' 'Iris-versicolor']\n",
      " ['6.3' '3.3' '4.7' '1.6' 'Iris-versicolor']\n",
      " ['4.9' '2.4' '3.3' '1.0' 'Iris-versicolor']\n",
      " ['6.6' '2.9' '4.6' '1.3' 'Iris-versicolor']\n",
      " ['5.2' '2.7' '3.9' '1.4' 'Iris-versicolor']\n",
      " ['5.0' '2.0' '3.5' '1.0' 'Iris-versicolor']\n",
      " ['5.9' '3.0' '4.2' '1.5' 'Iris-versicolor']\n",
      " ['6.0' '2.2' '4.0' '1.0' 'Iris-versicolor']\n",
      " ['6.1' '2.9' '4.7' '1.4' 'Iris-versicolor']\n",
      " ['5.6' '2.9' '3.6' '1.3' 'Iris-versicolor']\n",
      " ['6.7' '3.1' '4.4' '1.4' 'Iris-versicolor']\n",
      " ['5.6' '3.0' '4.5' '1.5' 'Iris-versicolor']\n",
      " ['5.8' '2.7' '4.1' '1.0' 'Iris-versicolor']\n",
      " ['6.2' '2.2' '4.5' '1.5' 'Iris-versicolor']\n",
      " ['5.6' '2.5' '3.9' '1.1' 'Iris-versicolor']\n",
      " ['5.9' '3.2' '4.8' '1.8' 'Iris-versicolor']\n",
      " ['6.1' '2.8' '4.0' '1.3' 'Iris-versicolor']\n",
      " ['6.3' '2.5' '4.9' '1.5' 'Iris-versicolor']\n",
      " ['6.1' '2.8' '4.7' '1.2' 'Iris-versicolor']\n",
      " ['6.4' '2.9' '4.3' '1.3' 'Iris-versicolor']\n",
      " ['6.6' '3.0' '4.4' '1.4' 'Iris-versicolor']\n",
      " ['6.8' '2.8' '4.8' '1.4' 'Iris-versicolor']\n",
      " ['6.7' '3.0' '5.0' '1.7' 'Iris-versicolor']\n",
      " ['6.0' '2.9' '4.5' '1.5' 'Iris-versicolor']\n",
      " ['5.7' '2.6' '3.5' '1.0' 'Iris-versicolor']\n",
      " ['5.5' '2.4' '3.8' '1.1' 'Iris-versicolor']\n",
      " ['5.5' '2.4' '3.7' '1.0' 'Iris-versicolor']\n",
      " ['5.8' '2.7' '3.9' '1.2' 'Iris-versicolor']\n",
      " ['6.0' '2.7' '5.1' '1.6' 'Iris-versicolor']\n",
      " ['5.4' '3.0' '4.5' '1.5' 'Iris-versicolor']\n",
      " ['6.0' '3.4' '4.5' '1.6' 'Iris-versicolor']\n",
      " ['6.7' '3.1' '4.7' '1.5' 'Iris-versicolor']\n",
      " ['6.3' '2.3' '4.4' '1.3' 'Iris-versicolor']\n",
      " ['5.6' '3.0' '4.1' '1.3' 'Iris-versicolor']\n",
      " ['5.5' '2.5' '4.0' '1.3' 'Iris-versicolor']\n",
      " ['5.5' '2.6' '4.4' '1.2' 'Iris-versicolor']\n",
      " ['6.1' '3.0' '4.6' '1.4' 'Iris-versicolor']\n",
      " ['5.8' '2.6' '4.0' '1.2' 'Iris-versicolor']\n",
      " ['5.0' '2.3' '3.3' '1.0' 'Iris-versicolor']\n",
      " ['5.6' '2.7' '4.2' '1.3' 'Iris-versicolor']\n",
      " ['5.7' '3.0' '4.2' '1.2' 'Iris-versicolor']\n",
      " ['5.7' '2.9' '4.2' '1.3' 'Iris-versicolor']\n",
      " ['6.2' '2.9' '4.3' '1.3' 'Iris-versicolor']\n",
      " ['5.1' '2.5' '3.0' '1.1' 'Iris-versicolor']\n",
      " ['5.7' '2.8' '4.1' '1.3' 'Iris-versicolor']\n",
      " ['6.3' '3.3' '6.0' '2.5' 'Iris-virginica']\n",
      " ['5.8' '2.7' '5.1' '1.9' 'Iris-virginica']\n",
      " ['7.1' '3.0' '5.9' '2.1' 'Iris-virginica']\n",
      " ['6.3' '2.9' '5.6' '1.8' 'Iris-virginica']\n",
      " ['6.5' '3.0' '5.8' '2.2' 'Iris-virginica']\n",
      " ['7.6' '3.0' '6.6' '2.1' 'Iris-virginica']\n",
      " ['4.9' '2.5' '4.5' '1.7' 'Iris-virginica']\n",
      " ['7.3' '2.9' '6.3' '1.8' 'Iris-virginica']\n",
      " ['6.7' '2.5' '5.8' '1.8' 'Iris-virginica']\n",
      " ['7.2' '3.6' '6.1' '2.5' 'Iris-virginica']\n",
      " ['6.5' '3.2' '5.1' '2.0' 'Iris-virginica']\n",
      " ['6.4' '2.7' '5.3' '1.9' 'Iris-virginica']\n",
      " ['6.8' '3.0' '5.5' '2.1' 'Iris-virginica']\n",
      " ['5.7' '2.5' '5.0' '2.0' 'Iris-virginica']\n",
      " ['5.8' '2.8' '5.1' '2.4' 'Iris-virginica']\n",
      " ['6.4' '3.2' '5.3' '2.3' 'Iris-virginica']\n",
      " ['6.5' '3.0' '5.5' '1.8' 'Iris-virginica']\n",
      " ['7.7' '3.8' '6.7' '2.2' 'Iris-virginica']\n",
      " ['7.7' '2.6' '6.9' '2.3' 'Iris-virginica']\n",
      " ['6.0' '2.2' '5.0' '1.5' 'Iris-virginica']\n",
      " ['6.9' '3.2' '5.7' '2.3' 'Iris-virginica']\n",
      " ['5.6' '2.8' '4.9' '2.0' 'Iris-virginica']\n",
      " ['7.7' '2.8' '6.7' '2.0' 'Iris-virginica']\n",
      " ['6.3' '2.7' '4.9' '1.8' 'Iris-virginica']\n",
      " ['6.7' '3.3' '5.7' '2.1' 'Iris-virginica']\n",
      " ['7.2' '3.2' '6.0' '1.8' 'Iris-virginica']\n",
      " ['6.2' '2.8' '4.8' '1.8' 'Iris-virginica']\n",
      " ['6.1' '3.0' '4.9' '1.8' 'Iris-virginica']\n",
      " ['6.4' '2.8' '5.6' '2.1' 'Iris-virginica']\n",
      " ['7.2' '3.0' '5.8' '1.6' 'Iris-virginica']\n",
      " ['7.4' '2.8' '6.1' '1.9' 'Iris-virginica']\n",
      " ['7.9' '3.8' '6.4' '2.0' 'Iris-virginica']\n",
      " ['6.4' '2.8' '5.6' '2.2' 'Iris-virginica']\n",
      " ['6.3' '2.8' '5.1' '1.5' 'Iris-virginica']\n",
      " ['6.1' '2.6' '5.6' '1.4' 'Iris-virginica']\n",
      " ['7.7' '3.0' '6.1' '2.3' 'Iris-virginica']\n",
      " ['6.3' '3.4' '5.6' '2.4' 'Iris-virginica']\n",
      " ['6.4' '3.1' '5.5' '1.8' 'Iris-virginica']\n",
      " ['6.0' '3.0' '4.8' '1.8' 'Iris-virginica']\n",
      " ['6.9' '3.1' '5.4' '2.1' 'Iris-virginica']\n",
      " ['6.7' '3.1' '5.6' '2.4' 'Iris-virginica']\n",
      " ['6.9' '3.1' '5.1' '2.3' 'Iris-virginica']\n",
      " ['5.8' '2.7' '5.1' '1.9' 'Iris-virginica']\n",
      " ['6.8' '3.2' '5.9' '2.3' 'Iris-virginica']\n",
      " ['6.7' '3.3' '5.7' '2.5' 'Iris-virginica']\n",
      " ['6.7' '3.0' '5.2' '2.3' 'Iris-virginica']\n",
      " ['6.3' '2.5' '5.0' '1.9' 'Iris-virginica']\n",
      " ['6.5' '3.0' '5.2' '2.0' 'Iris-virginica']\n",
      " ['6.2' '3.4' '5.4' '2.3' 'Iris-virginica']\n",
      " ['5.9' '3.0' '5.1' '1.8' 'Iris-virginica']]\n"
     ]
    }
   ],
   "source": [
    "train_data = create_train_data_iris()\n",
    "print(len(train_data))\n",
    "print(train_data.shape)\n",
    "print(train_data)"
   ]
  },
  {
   "cell_type": "code",
   "execution_count": 39,
   "id": "7ee19038",
   "metadata": {},
   "outputs": [
    {
     "name": "stdout",
     "output_type": "stream",
     "text": [
      "[array([[5.006   , 0.121764],\n",
      "       [5.936   , 0.261104],\n",
      "       [6.588   , 0.396256]]), array([[3.418   , 0.142276],\n",
      "       [2.77    , 0.0965  ],\n",
      "       [2.974   , 0.101924]]), array([[1.464   , 0.029504],\n",
      "       [4.26    , 0.2164  ],\n",
      "       [5.552   , 0.298496]]), array([[0.244   , 0.011264],\n",
      "       [1.326   , 0.038324],\n",
      "       [2.026   , 0.073924]])]\n"
     ]
    }
   ],
   "source": [
    "def compute_prior_probablity_iris ( train_data ):\n",
    "    y_unique = np.unique( train_data[:,4])\n",
    "    print(y_unique)\n",
    "    prior_probability = np.zeros(len( y_unique ))\n",
    "    for i in range(len(y_unique)):\n",
    "        print( len(np.where(train_data[:,4] == y_unique[i])[0]) )\n",
    "        prior_probability[i] = len(np.where(train_data[:,4]== y_unique[i])[0])/ len(train_data)\n",
    "    return prior_probability\n",
    "# a = compute_prior_probablity(train_data)\n",
    "# print(a)\n",
    "def compute_conditional_probability_iris( train_data ):\n",
    "    y_unique = np.unique( train_data[:,4])\n",
    "    x_feature = train_data.shape[1]-1\n",
    "    conditional_probability = []\n",
    "    list_x_name = []\n",
    "    for i in range (0, train_data.shape [1]-1) :\n",
    "        x_conditional_probability = np.zeros((len(y_unique),2))\n",
    "        for j in range(0,len(y_unique)):\n",
    "            mean = np.mean((train_data[:,i][np.where(train_data[:,4]==y_unique[j])]).astype(float))\n",
    "            sigma = np.std((train_data[:,i][np.where(train_data[:,4]==y_unique[j])]).astype(float))\n",
    "            sigma = sigma * sigma\n",
    "            x_conditional_probability[j]= [mean,sigma]\n",
    "        conditional_probability.append(x_conditional_probability)\n",
    "    return conditional_probability\n",
    "a = compute_conditional_probability_iris(train_data)\n",
    "print(a)"
   ]
  },
  {
   "cell_type": "code",
   "execution_count": 62,
   "id": "4f448414",
   "metadata": {},
   "outputs": [],
   "source": [
    "def train_gaussian_naive_bayes(train_data):\n",
    "    prior_probability = compute_prior_probablity_iris(train_data)\n",
    "    conditional_probability = compute_conditional_probability_iris(train_data)\n",
    "    return prior_probability,conditional_probability"
   ]
  },
  {
   "cell_type": "code",
   "execution_count": 66,
   "id": "c9eeecdd",
   "metadata": {},
   "outputs": [],
   "source": [
    "def prediction_iris(X,prior_probability,conditional_probability):\n",
    "    p0 = prior_probability[0]\\\n",
    "    *gauss(X[0],conditional_probability[0][0][0],conditional_probability[0][0][1])\\\n",
    "    *gauss(X[1],conditional_probability[1][0][0],conditional_probability[1][0][1])\\\n",
    "    *gauss(X[2],conditional_probability[2][0][0],conditional_probability[2][0][1])\\\n",
    "    *gauss(X[3],conditional_probability[3][0][0],conditional_probability[3][0][1])\\\n",
    "    \n",
    "#     print(prior_probability[0])\n",
    "    \n",
    "    p1 = prior_probability[1]\\\n",
    "    *gauss(X[0],conditional_probability[0][1][0],conditional_probability[0][1][1])\\\n",
    "    *gauss(X[1],conditional_probability[1][1][0],conditional_probability[1][1][1])\\\n",
    "    *gauss(X[2],conditional_probability[2][1][0],conditional_probability[2][1][1])\\\n",
    "    *gauss(X[3],conditional_probability[3][1][0],conditional_probability[3][1][1])\\\n",
    "    \n",
    "    p2 = prior_probability[2]\\\n",
    "    *gauss(X[0],conditional_probability[0][2][0],conditional_probability[0][2][1])\\\n",
    "    *gauss(X[1],conditional_probability[1][2][0],conditional_probability[1][2][1])\\\n",
    "    *gauss(X[2],conditional_probability[2][2][0],conditional_probability[2][2][1])\\\n",
    "    *gauss(X[3],conditional_probability[3][2][0],conditional_probability[3][2][1])\\\n",
    "    \n",
    "#     print(p0)\n",
    "\n",
    "    list_p = [p0,p1,p2]\n",
    "    print(list_p)\n",
    "    return list_p.index(np.max(list_p))\n",
    "    \n"
   ]
  },
  {
   "cell_type": "code",
   "execution_count": 69,
   "id": "4d6a06f9",
   "metadata": {},
   "outputs": [
    {
     "name": "stdout",
     "output_type": "stream",
     "text": [
      "['Iris-setosa' 'Iris-versicolor' 'Iris-virginica']\n",
      "50\n",
      "50\n",
      "50\n",
      "[9.781523305992867e-253, 1.5021518865217003e-12, 0.02364178433366742]\n",
      "Iris-virginica\n"
     ]
    }
   ],
   "source": [
    "X = [6.3 , 3.3 , 6.0 , 2.5]\n",
    "train_data = create_train_data_iris ()\n",
    "y_unique = np.unique( train_data [: ,4])\n",
    "prior_probability , conditional_probability = train_gaussian_naive_bayes(\n",
    "train_data )\n",
    "pred = y_unique[prediction_iris (X, prior_probability , conditional_probability )]\n",
    "print(pred)\n",
    "assert pred ==\"Iris-virginica\""
   ]
  },
  {
   "cell_type": "code",
   "execution_count": 72,
   "id": "eeebea4a",
   "metadata": {},
   "outputs": [
    {
     "name": "stdout",
     "output_type": "stream",
     "text": [
      "['Iris-setosa' 'Iris-versicolor' 'Iris-virginica']\n",
      "50\n",
      "50\n",
      "50\n",
      "[8.919973688271388e-45, 0.00033262388954880673, 7.818930194835617e-11]\n",
      "Iris-versicolor\n"
     ]
    }
   ],
   "source": [
    "X = [5.0 ,2.0 ,3.5 ,1.0]\n",
    "train_data = create_train_data_iris ()\n",
    "y_unique = np. unique ( train_data [: ,4])\n",
    "prior_probability , conditional_probability = train_gaussian_naive_bayes (\n",
    "train_data )\n",
    "pred = y_unique [ prediction_iris (X, prior_probability , conditional_probability )]\n",
    "print(pred)\n",
    "assert pred == \"Iris-versicolor\""
   ]
  }
 ],
 "metadata": {
  "kernelspec": {
   "display_name": "Python 3 (ipykernel)",
   "language": "python",
   "name": "python3"
  },
  "language_info": {
   "codemirror_mode": {
    "name": "ipython",
    "version": 3
   },
   "file_extension": ".py",
   "mimetype": "text/x-python",
   "name": "python",
   "nbconvert_exporter": "python",
   "pygments_lexer": "ipython3",
   "version": "3.10.9"
  }
 },
 "nbformat": 4,
 "nbformat_minor": 5
}
