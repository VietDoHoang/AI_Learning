{
 "cells": [
  {
   "cell_type": "code",
   "execution_count": 1,
   "id": "bfdaf991",
   "metadata": {},
   "outputs": [],
   "source": [
    "import math"
   ]
  },
  {
   "cell_type": "code",
   "execution_count": 2,
   "id": "e7d5242f",
   "metadata": {},
   "outputs": [
    {
     "name": "stdout",
     "output_type": "stream",
     "text": [
      "27\n"
     ]
    }
   ],
   "source": [
    "# thể tích hình lập phương\n",
    "def cube_Volume(s):\n",
    "    if s <0:\n",
    "        return -1\n",
    "    else :\n",
    "        return s*s*s\n",
    "cube_Volume(5)\n",
    "\n",
    "assert cube_Volume(s=2) ==8\n",
    "print ( cube_Volume(s=3))"
   ]
  },
  {
   "cell_type": "code",
   "execution_count": 4,
   "id": "bc7ed096",
   "metadata": {},
   "outputs": [
    {
     "name": "stdout",
     "output_type": "stream",
     "text": [
      "-1\n",
      "-1\n",
      "6\n",
      "6\n"
     ]
    }
   ],
   "source": [
    "# thể tích hình Hình hộp chữ nhật\n",
    "def rectangular_Box_Volume(l,w,h):\n",
    "    if l <0 or w<0 or h<0:\n",
    "        return -1\n",
    "    else :\n",
    "        return l*w*h\n",
    "print(rectangular_Box_Volume(5,-1,-2))\n",
    "print(rectangular_Box_Volume(5,-1,3))\n",
    "print(rectangular_Box_Volume(1,2,3))\n",
    "assert rectangular_Box_Volume(l=2, w=2, h=3) ==12\n",
    "print ( rectangular_Box_Volume(l=1, w=2, h=3))"
   ]
  },
  {
   "cell_type": "code",
   "execution_count": 6,
   "id": "648267c7",
   "metadata": {},
   "outputs": [
    {
     "name": "stdout",
     "output_type": "stream",
     "text": [
      "6.283185307179586\n",
      "-1\n",
      "18.1\n"
     ]
    }
   ],
   "source": [
    "# thể tích Hình trụ tròn\n",
    "def cylindrical_Round_Volume(r,h):\n",
    "    if r <0 or h<0:\n",
    "        return -1\n",
    "    else :\n",
    "        return math.pi * r*r*h\n",
    "print(cylindrical_Round_Volume(1,2))\n",
    "print(cylindrical_Round_Volume(1,-2))\n",
    "# assert cylindrical_Round_Volume(r=1.5 , h=4) == 28.26\n",
    "print (round( cylindrical_Round_Volume(r=1.2 , h=4) , 2))"
   ]
  },
  {
   "cell_type": "code",
   "execution_count": 7,
   "id": "a6c31ee6",
   "metadata": {},
   "outputs": [
    {
     "name": "stdout",
     "output_type": "stream",
     "text": [
      "9.2027720799157\n",
      "9.2\n"
     ]
    }
   ],
   "source": [
    "# thể tích hình cầu Hình cầu: V = 4/3 ∗ π ∗ r3\n",
    "def globular_Volume(r):\n",
    "    if r<0:\n",
    "        return -1\n",
    "    else :\n",
    "        return 4/3 * math.pi * pow(r,3)\n",
    "print(globular_Volume(1.3))\n",
    "assert round( globular_Volume(r=1) , 2) == 4.19\n",
    "print( round( globular_Volume(r =1.3) ,2))"
   ]
  },
  {
   "cell_type": "code",
   "execution_count": 10,
   "id": "2c0a842a",
   "metadata": {},
   "outputs": [
    {
     "name": "stdout",
     "output_type": "stream",
     "text": [
      "tp must be int\n"
     ]
    }
   ],
   "source": [
    " tp = 'true'\n",
    "if type (tp) != int: # isinstance (tp , int)\n",
    "    print (\"tp must be int\" )"
   ]
  },
  {
   "cell_type": "code",
   "execution_count": null,
   "id": "3036ba6a",
   "metadata": {},
   "outputs": [],
   "source": [
    "tp = 10\n",
    "fp = -1\n",
    "fn = 1\n",
    "if not (( tp > 0) and (fp > 0) and (fn > 0)):\n",
    "    print (\"tp and fp and fn must be greater than zero\")"
   ]
  }
 ],
 "metadata": {
  "kernelspec": {
   "display_name": "Python 3 (ipykernel)",
   "language": "python",
   "name": "python3"
  },
  "language_info": {
   "codemirror_mode": {
    "name": "ipython",
    "version": 3
   },
   "file_extension": ".py",
   "mimetype": "text/x-python",
   "name": "python",
   "nbconvert_exporter": "python",
   "pygments_lexer": "ipython3",
   "version": "3.10.9"
  }
 },
 "nbformat": 4,
 "nbformat_minor": 5
}
