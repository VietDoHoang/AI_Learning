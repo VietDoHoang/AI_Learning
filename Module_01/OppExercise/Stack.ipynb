{
 "cells": [
  {
   "cell_type": "code",
   "execution_count": 11,
   "id": "d8b70f05",
   "metadata": {},
   "outputs": [
    {
     "name": "stdout",
     "output_type": "stream",
     "text": [
      "False\n",
      "False\n",
      "2\n"
     ]
    }
   ],
   "source": [
    "class Stack:\n",
    "    \n",
    "    def __init__(self,capacity : int):\n",
    "        self.__capacity = capacity\n",
    "        self.__listStack = []\n",
    "    \n",
    "    def isEmpty(self):\n",
    "        return len(self.__listStack) ==0\n",
    "    def isFull(self):\n",
    "        return len(self.__listStack) == self.__capacity\n",
    "    def push(self,value):\n",
    "        if self.isFull():\n",
    "            print('Stack is full')\n",
    "            return\n",
    "        else :\n",
    "            self.__listStack.append(value)\n",
    "    def top(self):\n",
    "        return self.__listStack[-1]\n",
    "\n",
    "stack1= Stack(capacity=5)\n",
    "stack1.push(1)\n",
    "stack1.push(2)\n",
    "print(stack1.isEmpty())\n",
    "print(stack1.isFull())\n",
    "print(stack1.top())"
   ]
  },
  {
   "cell_type": "code",
   "execution_count": null,
   "id": "a88de510",
   "metadata": {},
   "outputs": [],
   "source": []
  },
  {
   "cell_type": "code",
   "execution_count": null,
   "id": "f6818dc2",
   "metadata": {},
   "outputs": [],
   "source": []
  },
  {
   "cell_type": "code",
   "execution_count": null,
   "id": "0f22f73e",
   "metadata": {},
   "outputs": [],
   "source": []
  },
  {
   "cell_type": "code",
   "execution_count": null,
   "id": "ba84fc6e",
   "metadata": {},
   "outputs": [],
   "source": []
  },
  {
   "cell_type": "code",
   "execution_count": null,
   "id": "a1cf4963",
   "metadata": {},
   "outputs": [],
   "source": []
  },
  {
   "cell_type": "code",
   "execution_count": null,
   "id": "19bef17c",
   "metadata": {},
   "outputs": [],
   "source": []
  },
  {
   "cell_type": "code",
   "execution_count": null,
   "id": "71262a60",
   "metadata": {},
   "outputs": [],
   "source": []
  },
  {
   "cell_type": "code",
   "execution_count": null,
   "id": "b54ee096",
   "metadata": {},
   "outputs": [],
   "source": []
  },
  {
   "cell_type": "code",
   "execution_count": null,
   "id": "e11d0820",
   "metadata": {},
   "outputs": [],
   "source": []
  },
  {
   "cell_type": "code",
   "execution_count": null,
   "id": "c319ea57",
   "metadata": {},
   "outputs": [],
   "source": []
  },
  {
   "cell_type": "code",
   "execution_count": null,
   "id": "dff1d10e",
   "metadata": {},
   "outputs": [],
   "source": []
  }
 ],
 "metadata": {
  "kernelspec": {
   "display_name": "Python 3 (ipykernel)",
   "language": "python",
   "name": "python3"
  },
  "language_info": {
   "codemirror_mode": {
    "name": "ipython",
    "version": 3
   },
   "file_extension": ".py",
   "mimetype": "text/x-python",
   "name": "python",
   "nbconvert_exporter": "python",
   "pygments_lexer": "ipython3",
   "version": "3.10.9"
  }
 },
 "nbformat": 4,
 "nbformat_minor": 5
}
