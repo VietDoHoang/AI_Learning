{
 "cells": [
  {
   "cell_type": "code",
   "execution_count": 6,
   "id": "f283bfde",
   "metadata": {},
   "outputs": [],
   "source": [
    "from abc import ABC , abstractmethod"
   ]
  },
  {
   "cell_type": "code",
   "execution_count": 22,
   "id": "77564fe9",
   "metadata": {},
   "outputs": [
    {
     "name": "stdout",
     "output_type": "stream",
     "text": [
      "2001\n",
      "NameWard: Ward1\n",
      "Name: An - Yob: 2001\n",
      "Grade: abc\n",
      "\n",
      "Name:  doctorA  - Yob: 1945\n",
      "Specialist:  Endocrinologists \n",
      "\n",
      "Name:  teacherA  - Yob: 1969\n",
      ":  Math \n",
      "\n",
      "1\n",
      "NameWard: Ward1\n",
      "Name: An - Yob: 2001\n",
      "Grade: abc\n",
      "\n",
      "Name:  teacherA  - Yob: 1969\n",
      ":  Math \n",
      "\n",
      "Name:  doctorA  - Yob: 1945\n",
      "Specialist:  Endocrinologists \n",
      "\n"
     ]
    },
    {
     "data": {
      "text/plain": [
       "1969.0"
      ]
     },
     "execution_count": 22,
     "metadata": {},
     "output_type": "execute_result"
    }
   ],
   "source": [
    "class Person(ABC):\n",
    "    def __init__(self, name:str, yob:int):\n",
    "        self._name=name\n",
    "        self._yob=yob\n",
    "    def describe(self):\n",
    "        print(f'Name: {self._name} - Yob: {self._yob}')\n",
    "    def getAge(self):\n",
    "        return self._yob\n",
    "class Student(Person):\n",
    "    def __init__(self,name:str,yob:int, grade:str):\n",
    "        super().__init__(name,yob)\n",
    "        self.__grade=grade\n",
    "    def describe(self):\n",
    "        super().describe()\n",
    "        print(f'Grade: {self.__grade}')\n",
    "#     def getAge(self):\n",
    "#         return self.__yob\n",
    "class Doctor(Person):\n",
    "    def __init__(self,name:str,yob:int, specialist:str):\n",
    "        super().__init__(name,yob)\n",
    "        self.__specialist=specialist\n",
    "    def describe(self):\n",
    "        super().describe()\n",
    "        print(f'Specialist: {self.__specialist}')\n",
    "    \n",
    "#     def getAge(self):\n",
    "#         return self.__yob\n",
    "        \n",
    "class Teacher(Person):\n",
    "    def __init__(self,name:str,yob:int, subject:str):\n",
    "        super().__init__(name,yob)\n",
    "        self.__subject=subject\n",
    "    def describe(self):\n",
    "        super().describe()\n",
    "        print(f': {self.__subject}')\n",
    "#     def getAge(self):\n",
    "#         return self.__yob\n",
    "class Ward:\n",
    "    def __init__(self,name,listward:list):\n",
    "        self.__name=name\n",
    "        self.__listward=listward\n",
    "    def addPerson(self,person:Person):\n",
    "        self.__listward.append(person)\n",
    "    def describe(self):\n",
    "        print(f'NameWard: {self.__name}')\n",
    "        for person in self.__listward:\n",
    "            person.describe()\n",
    "            print(\"\")        \n",
    "    def countDoctor(self):\n",
    "        doctor = Doctor(None,None,None)\n",
    "        countDoctor=0\n",
    "        for person in self.__listward:\n",
    "            if type(person)== type(doctor):\n",
    "                countDoctor =countDoctor+1\n",
    "        return countDoctor\n",
    "    def sortAge(self):\n",
    "        self.__listward.sort(key= lambda people : people.getAge(),reverse=True)\n",
    "        self.describe()\n",
    "    def aveTeacherYearOfBirth(self):\n",
    "        teacher1 = Teacher(None,None,None)\n",
    "        avg=0\n",
    "        count=0\n",
    "        for people in self.__listward:\n",
    "            if type(people) == type(teacher1):\n",
    "                count = count +1\n",
    "                avg = avg+ people.getAge()\n",
    "        return avg/count\n",
    "            \n",
    "listWard =[]\n",
    "student1= Student('An',2001,'abc')\n",
    "print(student1.getAge())\n",
    "teacher1 = Teacher ( name =\" teacherA \", yob =1969 , subject =\" Math \")\n",
    "doctor1 = Doctor ( name =\" doctorA \", yob =1945 , specialist =\" Endocrinologists \")\n",
    "ward1= Ward('Ward1',listWard)\n",
    "ward1.addPerson(student1)\n",
    "ward1.addPerson(doctor1)\n",
    "ward1.addPerson(teacher1)\n",
    "ward1.describe()\n",
    "print(ward1.countDoctor())\n",
    "ward1.sortAge()\n",
    "ward1.aveTeacherYearOfBirth()"
   ]
  },
  {
   "cell_type": "code",
   "execution_count": null,
   "id": "ee83c554",
   "metadata": {},
   "outputs": [],
   "source": []
  },
  {
   "cell_type": "code",
   "execution_count": null,
   "id": "f37e12d4",
   "metadata": {},
   "outputs": [],
   "source": []
  },
  {
   "cell_type": "code",
   "execution_count": null,
   "id": "08591223",
   "metadata": {},
   "outputs": [],
   "source": []
  },
  {
   "cell_type": "code",
   "execution_count": null,
   "id": "a43cef07",
   "metadata": {},
   "outputs": [],
   "source": []
  },
  {
   "cell_type": "code",
   "execution_count": null,
   "id": "5f4676b3",
   "metadata": {},
   "outputs": [],
   "source": []
  },
  {
   "cell_type": "code",
   "execution_count": null,
   "id": "10c59a5d",
   "metadata": {},
   "outputs": [],
   "source": []
  },
  {
   "cell_type": "code",
   "execution_count": null,
   "id": "7b96c905",
   "metadata": {},
   "outputs": [],
   "source": []
  },
  {
   "cell_type": "code",
   "execution_count": null,
   "id": "7e9c9798",
   "metadata": {},
   "outputs": [],
   "source": []
  },
  {
   "cell_type": "code",
   "execution_count": null,
   "id": "c12bbbb6",
   "metadata": {},
   "outputs": [],
   "source": []
  },
  {
   "cell_type": "code",
   "execution_count": null,
   "id": "f8d98094",
   "metadata": {},
   "outputs": [],
   "source": []
  },
  {
   "cell_type": "code",
   "execution_count": null,
   "id": "5c169445",
   "metadata": {},
   "outputs": [],
   "source": []
  },
  {
   "cell_type": "code",
   "execution_count": null,
   "id": "014db44b",
   "metadata": {},
   "outputs": [],
   "source": []
  },
  {
   "cell_type": "code",
   "execution_count": null,
   "id": "4cedcbcd",
   "metadata": {},
   "outputs": [],
   "source": []
  },
  {
   "cell_type": "code",
   "execution_count": null,
   "id": "5a424551",
   "metadata": {},
   "outputs": [],
   "source": []
  },
  {
   "cell_type": "code",
   "execution_count": null,
   "id": "3170954f",
   "metadata": {},
   "outputs": [],
   "source": []
  },
  {
   "cell_type": "code",
   "execution_count": null,
   "id": "e6a7fedb",
   "metadata": {},
   "outputs": [],
   "source": []
  },
  {
   "cell_type": "code",
   "execution_count": null,
   "id": "c0ce57b1",
   "metadata": {},
   "outputs": [],
   "source": []
  },
  {
   "cell_type": "code",
   "execution_count": null,
   "id": "cbbc4f4d",
   "metadata": {},
   "outputs": [],
   "source": []
  },
  {
   "cell_type": "code",
   "execution_count": null,
   "id": "39c63e8d",
   "metadata": {},
   "outputs": [],
   "source": []
  },
  {
   "cell_type": "code",
   "execution_count": null,
   "id": "05f0da1d",
   "metadata": {},
   "outputs": [],
   "source": []
  },
  {
   "cell_type": "code",
   "execution_count": null,
   "id": "7c129e58",
   "metadata": {},
   "outputs": [],
   "source": []
  },
  {
   "cell_type": "code",
   "execution_count": null,
   "id": "c17dacf0",
   "metadata": {},
   "outputs": [],
   "source": []
  },
  {
   "cell_type": "code",
   "execution_count": null,
   "id": "117f77c7",
   "metadata": {},
   "outputs": [],
   "source": []
  },
  {
   "cell_type": "code",
   "execution_count": null,
   "id": "4a0f3db4",
   "metadata": {},
   "outputs": [],
   "source": []
  },
  {
   "cell_type": "code",
   "execution_count": null,
   "id": "d42e9c48",
   "metadata": {},
   "outputs": [],
   "source": []
  },
  {
   "cell_type": "code",
   "execution_count": null,
   "id": "b0c0a420",
   "metadata": {},
   "outputs": [],
   "source": []
  },
  {
   "cell_type": "code",
   "execution_count": null,
   "id": "63f3d218",
   "metadata": {},
   "outputs": [],
   "source": []
  },
  {
   "cell_type": "code",
   "execution_count": null,
   "id": "ee0d70de",
   "metadata": {},
   "outputs": [],
   "source": []
  },
  {
   "cell_type": "code",
   "execution_count": null,
   "id": "9deddbec",
   "metadata": {},
   "outputs": [],
   "source": []
  },
  {
   "cell_type": "code",
   "execution_count": null,
   "id": "ea1b4f21",
   "metadata": {},
   "outputs": [],
   "source": []
  },
  {
   "cell_type": "code",
   "execution_count": null,
   "id": "71a16d56",
   "metadata": {},
   "outputs": [],
   "source": []
  },
  {
   "cell_type": "code",
   "execution_count": null,
   "id": "39b1fecb",
   "metadata": {},
   "outputs": [],
   "source": []
  },
  {
   "cell_type": "code",
   "execution_count": null,
   "id": "2f469034",
   "metadata": {},
   "outputs": [],
   "source": []
  },
  {
   "cell_type": "code",
   "execution_count": null,
   "id": "3d11500b",
   "metadata": {},
   "outputs": [],
   "source": []
  },
  {
   "cell_type": "code",
   "execution_count": null,
   "id": "eb15fa84",
   "metadata": {},
   "outputs": [],
   "source": []
  },
  {
   "cell_type": "code",
   "execution_count": null,
   "id": "95e5e89f",
   "metadata": {},
   "outputs": [],
   "source": []
  },
  {
   "cell_type": "code",
   "execution_count": null,
   "id": "c734ee81",
   "metadata": {},
   "outputs": [],
   "source": []
  },
  {
   "cell_type": "code",
   "execution_count": null,
   "id": "173ddac5",
   "metadata": {},
   "outputs": [],
   "source": []
  },
  {
   "cell_type": "code",
   "execution_count": null,
   "id": "5d372e11",
   "metadata": {},
   "outputs": [],
   "source": []
  },
  {
   "cell_type": "code",
   "execution_count": null,
   "id": "c1d04926",
   "metadata": {},
   "outputs": [],
   "source": []
  },
  {
   "cell_type": "code",
   "execution_count": null,
   "id": "8d0f3fab",
   "metadata": {},
   "outputs": [],
   "source": []
  },
  {
   "cell_type": "code",
   "execution_count": null,
   "id": "b97caa1d",
   "metadata": {},
   "outputs": [],
   "source": []
  },
  {
   "cell_type": "code",
   "execution_count": null,
   "id": "51cb375d",
   "metadata": {},
   "outputs": [],
   "source": []
  },
  {
   "cell_type": "code",
   "execution_count": null,
   "id": "a346d4b1",
   "metadata": {},
   "outputs": [],
   "source": []
  }
 ],
 "metadata": {
  "kernelspec": {
   "display_name": "Python 3 (ipykernel)",
   "language": "python",
   "name": "python3"
  },
  "language_info": {
   "codemirror_mode": {
    "name": "ipython",
    "version": 3
   },
   "file_extension": ".py",
   "mimetype": "text/x-python",
   "name": "python",
   "nbconvert_exporter": "python",
   "pygments_lexer": "ipython3",
   "version": "3.10.9"
  }
 },
 "nbformat": 4,
 "nbformat_minor": 5
}
