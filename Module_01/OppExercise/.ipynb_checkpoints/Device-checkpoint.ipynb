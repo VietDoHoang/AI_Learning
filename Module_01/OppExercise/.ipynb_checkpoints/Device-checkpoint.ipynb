{
 "cells": [
  {
   "cell_type": "code",
   "execution_count": 5,
   "id": "4e679238",
   "metadata": {},
   "outputs": [
    {
     "name": "stdout",
     "output_type": "stream",
     "text": [
      "Name:  mouse  - Price 2.5\n"
     ]
    },
    {
     "ename": "NameError",
     "evalue": "name '_Device__manufacturer' is not defined",
     "output_type": "error",
     "traceback": [
      "\u001b[1;31m---------------------------------------------------------------------------\u001b[0m",
      "\u001b[1;31mNameError\u001b[0m                                 Traceback (most recent call last)",
      "Cell \u001b[1;32mIn[5], line 25\u001b[0m\n\u001b[0;32m     22\u001b[0m         \u001b[38;5;28mprint\u001b[39m(\u001b[38;5;124mf\u001b[39m\u001b[38;5;124m'\u001b[39m\u001b[38;5;124mIdentity: \u001b[39m\u001b[38;5;132;01m{\u001b[39;00m\u001b[38;5;28mself\u001b[39m\u001b[38;5;241m.\u001b[39m__identity\u001b[38;5;132;01m}\u001b[39;00m\u001b[38;5;124m - Location: \u001b[39m\u001b[38;5;132;01m{\u001b[39;00m\u001b[38;5;28mself\u001b[39m\u001b[38;5;241m.\u001b[39m__location\u001b[38;5;132;01m}\u001b[39;00m\u001b[38;5;124m'\u001b[39m)\n\u001b[0;32m     24\u001b[0m device1 \u001b[38;5;241m=\u001b[39m Device ( name \u001b[38;5;241m=\u001b[39m\u001b[38;5;124m\"\u001b[39m\u001b[38;5;124m mouse \u001b[39m\u001b[38;5;124m\"\u001b[39m, price \u001b[38;5;241m=\u001b[39m\u001b[38;5;241m2.5\u001b[39m , identity \u001b[38;5;241m=\u001b[39m\u001b[38;5;241m9725\u001b[39m , location \u001b[38;5;241m=\u001b[39m\u001b[38;5;124m\"\u001b[39m\u001b[38;5;124m Vietnam \u001b[39m\u001b[38;5;124m\"\u001b[39m)\n\u001b[1;32m---> 25\u001b[0m \u001b[43mdevice1\u001b[49m\u001b[38;5;241;43m.\u001b[39;49m\u001b[43mdescribe\u001b[49m\u001b[43m(\u001b[49m\u001b[43m)\u001b[49m\n",
      "Cell \u001b[1;32mIn[5], line 9\u001b[0m, in \u001b[0;36mDevice.describe\u001b[1;34m(self)\u001b[0m\n\u001b[0;32m      7\u001b[0m \u001b[38;5;28;01mdef\u001b[39;00m \u001b[38;5;21mdescribe\u001b[39m(\u001b[38;5;28mself\u001b[39m):\n\u001b[0;32m      8\u001b[0m     \u001b[38;5;28mprint\u001b[39m(\u001b[38;5;124mf\u001b[39m\u001b[38;5;124m'\u001b[39m\u001b[38;5;124mName: \u001b[39m\u001b[38;5;132;01m{\u001b[39;00m\u001b[38;5;28mself\u001b[39m\u001b[38;5;241m.\u001b[39m__name\u001b[38;5;132;01m}\u001b[39;00m\u001b[38;5;124m - Price \u001b[39m\u001b[38;5;132;01m{\u001b[39;00m\u001b[38;5;28mself\u001b[39m\u001b[38;5;241m.\u001b[39m__price\u001b[38;5;132;01m}\u001b[39;00m\u001b[38;5;124m'\u001b[39m)\n\u001b[1;32m----> 9\u001b[0m     __manufacturer\u001b[38;5;241m.\u001b[39mdescribe()\n",
      "\u001b[1;31mNameError\u001b[0m: name '_Device__manufacturer' is not defined"
     ]
    }
   ],
   "source": [
    "class Device:\n",
    "    def __init__(self,name,price,identity,location):\n",
    "        self.__name=name\n",
    "        self.__price=price\n",
    "        self.__manufacturer=Manufacturer(identity,location)\n",
    "    \n",
    "    def describe(self):\n",
    "        print(f'Name: {self.__name} - Price {self.__price}')\n",
    "        self.__manufacturer.describe()\n",
    "        \n",
    "class Manufacturer:\n",
    "    def __init__(self,identity,location):\n",
    "        self.__identity=identity\n",
    "        self.__location =location\n",
    "        \n",
    "    def getIdentity():\n",
    "        return self.__identity\n",
    "    def getLocation():\n",
    "        return self.__location\n",
    "    \n",
    "    def describe(self):\n",
    "        print(f'Identity: {self.__identity} - Location: {self.__location}')\n",
    "        \n",
    "device1 = Device ( name =\" mouse \", price =2.5 , identity =9725 , location =\" Vietnam \")\n",
    "device1.describe()"
   ]
  },
  {
   "cell_type": "code",
   "execution_count": null,
   "id": "6b1dfac3",
   "metadata": {},
   "outputs": [],
   "source": []
  },
  {
   "cell_type": "code",
   "execution_count": null,
   "id": "6285f226",
   "metadata": {},
   "outputs": [],
   "source": []
  },
  {
   "cell_type": "code",
   "execution_count": null,
   "id": "5b76df8d",
   "metadata": {},
   "outputs": [],
   "source": []
  },
  {
   "cell_type": "code",
   "execution_count": null,
   "id": "b02c60a1",
   "metadata": {},
   "outputs": [],
   "source": []
  }
 ],
 "metadata": {
  "kernelspec": {
   "display_name": "Python 3 (ipykernel)",
   "language": "python",
   "name": "python3"
  },
  "language_info": {
   "codemirror_mode": {
    "name": "ipython",
    "version": 3
   },
   "file_extension": ".py",
   "mimetype": "text/x-python",
   "name": "python",
   "nbconvert_exporter": "python",
   "pygments_lexer": "ipython3",
   "version": "3.10.9"
  }
 },
 "nbformat": 4,
 "nbformat_minor": 5
}
