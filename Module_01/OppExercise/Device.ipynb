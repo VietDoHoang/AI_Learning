{
 "cells": [
  {
   "cell_type": "code",
   "execution_count": 6,
   "id": "f4120b56",
   "metadata": {},
   "outputs": [
    {
     "name": "stdout",
     "output_type": "stream",
     "text": [
      "Name:  mouse  - Price 2.5\n",
      "Identity: 9725 - Location:  Vietnam \n"
     ]
    }
   ],
   "source": [
    "class Device:\n",
    "    def __init__(self,name,price,identity,location):\n",
    "        self.__name=name\n",
    "        self.__price=price\n",
    "        self.__manufacturer=Manufacturer(identity,location)\n",
    "    \n",
    "    def describe(self):\n",
    "        print(f'Name: {self.__name} - Price {self.__price}')\n",
    "        self.__manufacturer.describe()\n",
    "        \n",
    "class Manufacturer:\n",
    "    def __init__(self,identity,location):\n",
    "        self.__identity=identity\n",
    "        self.__location =location\n",
    "        \n",
    "    def getIdentity():\n",
    "        return self.__identity\n",
    "    def getLocation():\n",
    "        return self.__location\n",
    "    \n",
    "    def describe(self):\n",
    "        print(f'Identity: {self.__identity} - Location: {self.__location}')\n",
    "        \n",
    "device1 = Device ( name =\" mouse \", price =2.5 , identity =9725 , location =\" Vietnam \")\n",
    "device1.describe()"
   ]
  },
  {
   "cell_type": "code",
   "execution_count": null,
   "id": "ab432688",
   "metadata": {},
   "outputs": [],
   "source": []
  },
  {
   "cell_type": "code",
   "execution_count": null,
   "id": "5644b2f5",
   "metadata": {},
   "outputs": [],
   "source": []
  },
  {
   "cell_type": "code",
   "execution_count": null,
   "id": "7cb5ac2d",
   "metadata": {},
   "outputs": [],
   "source": []
  },
  {
   "cell_type": "code",
   "execution_count": null,
   "id": "149ed074",
   "metadata": {},
   "outputs": [],
   "source": []
  },
  {
   "cell_type": "code",
   "execution_count": null,
   "id": "e6dfbd46",
   "metadata": {},
   "outputs": [],
   "source": []
  }
 ],
 "metadata": {
  "kernelspec": {
   "display_name": "Python 3 (ipykernel)",
   "language": "python",
   "name": "python3"
  },
  "language_info": {
   "codemirror_mode": {
    "name": "ipython",
    "version": 3
   },
   "file_extension": ".py",
   "mimetype": "text/x-python",
   "name": "python",
   "nbconvert_exporter": "python",
   "pygments_lexer": "ipython3",
   "version": "3.10.9"
  }
 },
 "nbformat": 4,
 "nbformat_minor": 5
}
