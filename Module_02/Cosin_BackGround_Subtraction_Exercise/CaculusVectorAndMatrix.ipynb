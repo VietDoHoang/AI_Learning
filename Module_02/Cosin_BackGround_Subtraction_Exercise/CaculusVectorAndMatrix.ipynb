{
 "cells": [
  {
   "cell_type": "code",
   "execution_count": 1,
   "id": "5d59b311",
   "metadata": {},
   "outputs": [],
   "source": [
    "import numpy as np\n",
    "import math"
   ]
  },
  {
   "cell_type": "code",
   "execution_count": 2,
   "id": "3c955eba",
   "metadata": {},
   "outputs": [
    {
     "name": "stdout",
     "output_type": "stream",
     "text": [
      "23.28\n"
     ]
    }
   ],
   "source": [
    "def computeVectorLength(vector):\n",
    "    sum_vector = np.sum(vector*vector)\n",
    "    len_of_vector = math.sqrt(sum_vector)\n",
    "    return len_of_vector\n",
    "vector = np.array([-2, 4, 9, 21])\n",
    "result = computeVectorLength(vector)\n",
    "print(round(result,2))"
   ]
  },
  {
   "cell_type": "code",
   "execution_count": 3,
   "id": "732a1076",
   "metadata": {},
   "outputs": [
    {
     "name": "stdout",
     "output_type": "stream",
     "text": [
      "4\n"
     ]
    }
   ],
   "source": [
    "def computeDotProduct(vector1, vector2):\n",
    "    result = vector1.dot(vector2.T)\n",
    "    return result\n",
    "\n",
    "v1 = np.array([0, 1, -1, 2])\n",
    "v2 = np.array([2, 5, 1, 0])\n",
    "result = computeDotProduct(v1, v2)\n",
    "print(round(result,2))"
   ]
  },
  {
   "cell_type": "code",
   "execution_count": 4,
   "id": "d90322a6",
   "metadata": {},
   "outputs": [
    {
     "name": "stdout",
     "output_type": "stream",
     "text": [
      "[[1 2]\n",
      " [3 4]]\n",
      "[1 2]\n",
      "result \n",
      " [ 5 11]\n"
     ]
    }
   ],
   "source": [
    "x = np.array([[1, 2],\n",
    "[3, 4]])\n",
    "print(x)\n",
    "k = np.array([1, 2])\n",
    "print(k)\n",
    "print('result \\n', x.dot(k))"
   ]
  },
  {
   "cell_type": "code",
   "execution_count": 5,
   "id": "6a35a465",
   "metadata": {},
   "outputs": [
    {
     "name": "stdout",
     "output_type": "stream",
     "text": [
      "result \n",
      " [ 3 -5]\n"
     ]
    }
   ],
   "source": [
    "x = np.array([[-1, 2],\n",
    "              [3, -4]])\n",
    "k = np.array([1, 2])\n",
    "print('result \\n', x@k)"
   ]
  },
  {
   "cell_type": "code",
   "execution_count": 6,
   "id": "e609d9f2",
   "metadata": {},
   "outputs": [],
   "source": [
    "def matrix_multi_vector(matrix, vector):\n",
    "    result = matrix.dot(vector)\n",
    "    return result"
   ]
  },
  {
   "cell_type": "code",
   "execution_count": 7,
   "id": "6ced307e",
   "metadata": {},
   "outputs": [
    {
     "name": "stdout",
     "output_type": "stream",
     "text": [
      "[3 1]\n"
     ]
    }
   ],
   "source": [
    "m = np.array([[-1, 1, 1], [0, -4, 9]])\n",
    "v = np.array([0, 2, 1])\n",
    "# result = m.dot(v)\n",
    "result = matrix_multi_vector(m, v)\n",
    "print(result)"
   ]
  },
  {
   "cell_type": "code",
   "execution_count": 8,
   "id": "f52f125a",
   "metadata": {},
   "outputs": [
    {
     "name": "stdout",
     "output_type": "stream",
     "text": [
      "[[  6  -1]\n",
      " [-16 -10]]\n"
     ]
    }
   ],
   "source": [
    "def matrix_multi_matrix(matrix1,matrix2):\n",
    "    len_of_vector = matrix1.dot(matrix2)\n",
    "    return len_of_vector\n",
    "m1 = np.array([[0, 1, 2], [2, -3, 1]])\n",
    "m2 = np.array([[1, -3],[6, 1], [0, -1]])\n",
    "result = matrix_multi_matrix(m1, m2)\n",
    "print(result)"
   ]
  },
  {
   "cell_type": "code",
   "execution_count": 9,
   "id": "db81f2f6",
   "metadata": {},
   "outputs": [
    {
     "name": "stdout",
     "output_type": "stream",
     "text": [
      "[[1. 1. 1.]\n",
      " [2. 2. 2.]\n",
      " [3. 3. 3.]]\n"
     ]
    }
   ],
   "source": [
    "m1 = np.eye(3)\n",
    "m2 = np.array([[1, 1, 1],[2, 2, 2], [3, 3, 3]])\n",
    "result = m1@m2\n",
    "print(result)"
   ]
  },
  {
   "cell_type": "code",
   "execution_count": 10,
   "id": "3f9fac28",
   "metadata": {},
   "outputs": [
    {
     "name": "stdout",
     "output_type": "stream",
     "text": [
      "[[1. 0.]\n",
      " [0. 1.]]\n",
      "[1. 0. 0. 1.]\n",
      "[[1 1 1 1]\n",
      " [2 2 2 2]\n",
      " [3 3 3 3]\n",
      " [4 4 4 4]]\n",
      "[5. 5. 5. 5.]\n"
     ]
    }
   ],
   "source": [
    "m1 = np.eye(2)\n",
    "print(m1)\n",
    "m1 = np.reshape(m1,(-1,4))[0]\n",
    "print(m1)\n",
    "m2 = np.array([[1, 1, 1, 1],[2, 2, 2, 2], [3, 3, 3, 3], [4, 4, 4, 4]])\n",
    "print(m2)\n",
    "result = m1@m2\n",
    "print(result)"
   ]
  },
  {
   "cell_type": "code",
   "execution_count": 12,
   "id": "61c3fd0a",
   "metadata": {},
   "outputs": [
    {
     "name": "stdout",
     "output_type": "stream",
     "text": [
      "[1 3 2 4]\n",
      "[29 29 29 29]\n"
     ]
    }
   ],
   "source": [
    "m1 = np.array([[1, 2], [3, 4]])\n",
    "m1 = np.reshape(m1,(-1,4), \"F\")[0]\n",
    "print(m1)\n",
    "m2 = np.array([[1, 1, 1, 1],[2, 2, 2, 2], [3, 3, 3, 3], [4, 4, 4, 4]])\n",
    "result = m1@m2\n",
    "print(result)"
   ]
  },
  {
   "cell_type": "code",
   "execution_count": 13,
   "id": "40c14749",
   "metadata": {},
   "outputs": [
    {
     "name": "stdout",
     "output_type": "stream",
     "text": [
      "[[-2  6]\n",
      " [ 8 -4]]\n",
      "[[-4 -6]\n",
      " [-8 -2]]\n",
      "[[0.1  0.15]\n",
      " [0.2  0.05]]\n"
     ]
    }
   ],
   "source": [
    "def inverse_matrix(matrix):\n",
    "    print(matrix)\n",
    "    det = matrix[0,0]*matrix[1,1] - matrix[0,1]*matrix[1,0]\n",
    "    matrix[0,0], matrix[1,1] = matrix[1,1], matrix[0,0]\n",
    "    matrix[1,0] = -matrix[1,0]\n",
    "    matrix[0,1] = -matrix[0,1]\n",
    "    print(matrix)\n",
    "    if det !=0 :\n",
    "        result = (1/det)*matrix\n",
    "    else :\n",
    "        result = None\n",
    "        print('det(matrix) = 0 ')\n",
    "    return result\n",
    "m1 = np.array([[-2, 6], [8, -4]])\n",
    "# m1[0,0], m1[1,1] = -m1[1,1], -m1[0,0]\n",
    "# print(m1)\n",
    "result = inverse_matrix(m1)\n",
    "print(result)"
   ]
  },
  {
   "cell_type": "markdown",
   "id": "b97ddc2d",
   "metadata": {},
   "source": [
    "# Eigenvector and eigenvalues\n",
    "> A.v=lamba.v <=>  A.v-lamba.v =0  \n",
    "> A.v-lamba.I.v =0 <=> v(A-lamba.I)=0 \n",
    "> với v !=0 ta có : det(A-lamba.I)=0\n",
    "\n",
    "\n"
   ]
  },
  {
   "cell_type": "code",
   "execution_count": 4,
   "id": "68a11311",
   "metadata": {},
   "outputs": [
    {
     "name": "stdout",
     "output_type": "stream",
     "text": [
      "[[ 0.89442719 -0.70710678]\n",
      " [ 0.4472136   0.70710678]]\n"
     ]
    }
   ],
   "source": [
    "def compute_eigenvalues_eigenvectors(matrix):\n",
    "    eigenvalue, eigenvectors = np.linalg.eig(matrix)\n",
    "    return eigenvalue, eigenvectors\n",
    "# matrix = np.array([[-6, 3], [4, 5]])\n",
    "# matrix2 = np.array([6,6])\n",
    "# print(matrix.T.dot(matrix2))\n",
    "# # print(matrix)\n",
    "# # print(compute_eigenvalues_eigenvectors(matrix))\n",
    "matrix = np.array([[0.9, 0.2], [0.1, 0.8]])\n",
    "eigenvalues, eigenvectors = compute_eigenvalues_eigenvectors(matrix)\n",
    "print(eigenvectors)"
   ]
  },
  {
   "cell_type": "code",
   "execution_count": null,
   "id": "dd7bffb2",
   "metadata": {},
   "outputs": [],
   "source": [
    "math.gcd()"
   ]
  },
  {
   "cell_type": "code",
   "execution_count": 27,
   "id": "e1238ea7",
   "metadata": {},
   "outputs": [
    {
     "name": "stdout",
     "output_type": "stream",
     "text": [
      "1.157\n"
     ]
    }
   ],
   "source": [
    "def compute_cosine(v1, v2):\n",
    "    sum_xy = sum( x1*x2 for x1,x2 in zip(v1,v2) )\n",
    "    sum_xx = sum(x*x for x in v1)\n",
    "    sum_yy = sum(y*y for y in v2)\n",
    "    cos_sim = sum_xy/(math.sqrt(sum_xx)+math.sqrt(sum_yy))\n",
    "    return cos_sim\n",
    "x = np.array([1, 2, 3, 4])\n",
    "y = np.array([1, 0, 3, 0])\n",
    "result = compute_cosine(x,y)\n",
    "print(round(result, 3))"
   ]
  }
 ],
 "metadata": {
  "kernelspec": {
   "display_name": "Python 3 (ipykernel)",
   "language": "python",
   "name": "python3"
  },
  "language_info": {
   "codemirror_mode": {
    "name": "ipython",
    "version": 3
   },
   "file_extension": ".py",
   "mimetype": "text/x-python",
   "name": "python",
   "nbconvert_exporter": "python",
   "pygments_lexer": "ipython3",
   "version": "3.10.9"
  }
 },
 "nbformat": 4,
 "nbformat_minor": 5
}
