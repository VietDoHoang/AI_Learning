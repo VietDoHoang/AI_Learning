{
 "cells": [
  {
   "cell_type": "code",
   "execution_count": 1,
   "id": "f145f808",
   "metadata": {},
   "outputs": [],
   "source": [
    "import numpy as np"
   ]
  },
  {
   "cell_type": "code",
   "execution_count": 2,
   "id": "a744627f",
   "metadata": {},
   "outputs": [
    {
     "data": {
      "text/plain": [
       "array([0, 1, 2, 3, 4, 5, 6, 7, 8, 9])"
      ]
     },
     "execution_count": 2,
     "metadata": {},
     "output_type": "execute_result"
    }
   ],
   "source": [
    "arr = np. arange (0, 10, 1)\n",
    "arr"
   ]
  },
  {
   "cell_type": "code",
   "execution_count": 3,
   "id": "662f1488",
   "metadata": {},
   "outputs": [
    {
     "data": {
      "text/plain": [
       "array([[ True,  True,  True],\n",
       "       [ True,  True,  True],\n",
       "       [ True,  True,  True]])"
      ]
     },
     "execution_count": 3,
     "metadata": {},
     "output_type": "execute_result"
    }
   ],
   "source": [
    "arr = np. full ((3 ,3) , fill_value =True , dtype = bool )\n",
    "arr"
   ]
  },
  {
   "cell_type": "code",
   "execution_count": 5,
   "id": "18433083",
   "metadata": {},
   "outputs": [
    {
     "name": "stdout",
     "output_type": "stream",
     "text": [
      "[1 3 5 7 9]\n"
     ]
    }
   ],
   "source": [
    "arr = np. arange (0 ,10)\n",
    "print(arr[arr%2 == 1])"
   ]
  },
  {
   "cell_type": "code",
   "execution_count": 6,
   "id": "f3a0df3b",
   "metadata": {},
   "outputs": [
    {
     "name": "stdout",
     "output_type": "stream",
     "text": [
      "[ 0 -1  2 -1  4 -1  6 -1  8 -1]\n"
     ]
    }
   ],
   "source": [
    "arr = np. arange (0 ,10)\n",
    "arr[arr %2 ==1] = -1\n",
    "print (arr )"
   ]
  },
  {
   "cell_type": "code",
   "execution_count": 7,
   "id": "72d5998b",
   "metadata": {},
   "outputs": [
    {
     "name": "stdout",
     "output_type": "stream",
     "text": [
      "[[0 1 2 3 4]\n",
      " [5 6 7 8 9]]\n"
     ]
    }
   ],
   "source": [
    "arr = np. arange (10)\n",
    "arr_2d = arr. reshape (2 , -1)\n",
    "print ( arr_2d )"
   ]
  },
  {
   "cell_type": "code",
   "execution_count": 8,
   "id": "bbd504bc",
   "metadata": {},
   "outputs": [
    {
     "name": "stdout",
     "output_type": "stream",
     "text": [
      " Result : \n",
      " [[0 1 2 3 4]\n",
      " [5 6 7 8 9]\n",
      " [1 1 1 1 1]\n",
      " [1 1 1 1 1]]\n"
     ]
    }
   ],
   "source": [
    "import numpy as np\n",
    "arr1 = np.arange(10) .reshape (2 , -1)\n",
    "arr2 = np.repeat(1 ,10).reshape (2 , -1)\n",
    "c = np.concatenate ([ arr1 , arr2 ], axis =0)\n",
    "\n",
    "print (\" Result : \\n\", c)"
   ]
  },
  {
   "cell_type": "code",
   "execution_count": 9,
   "id": "a42d6f52",
   "metadata": {},
   "outputs": [
    {
     "name": "stdout",
     "output_type": "stream",
     "text": [
      "C =  [[0 1 2 3 4 1 1 1 1 1]\n",
      " [5 6 7 8 9 1 1 1 1 1]]\n"
     ]
    }
   ],
   "source": [
    "arr1 = np.arange (10) . reshape (2 , -1)\n",
    "arr2 = np.repeat (1 ,10). reshape (2 , -1)\n",
    "c = np.concatenate ([ arr1 , arr2 ], axis =1)\n",
    "print (\"C = \", c)"
   ]
  },
  {
   "cell_type": "code",
   "execution_count": 10,
   "id": "77e8c41d",
   "metadata": {},
   "outputs": [
    {
     "name": "stdout",
     "output_type": "stream",
     "text": [
      "[1 1 1 2 2 2 3 3 3]\n",
      "[1 2 3 1 2 3 1 2 3]\n"
     ]
    }
   ],
   "source": [
    "import numpy as np\n",
    "arr = np. array ([1 ,2 ,3])\n",
    "print (np. repeat (arr ,3))\n",
    "print (np. tile (arr ,3))"
   ]
  },
  {
   "cell_type": "code",
   "execution_count": 12,
   "id": "8717a73e",
   "metadata": {},
   "outputs": [
    {
     "name": "stdout",
     "output_type": "stream",
     "text": [
      " result  [ 6  9 10]\n"
     ]
    }
   ],
   "source": [
    "a = np. array ([2 ,6 ,1 ,9 ,10 ,3 ,27])\n",
    "index = np. where ((a >=5) &(a <=10))\n",
    "print (\" result \", a[ index ])"
   ]
  },
  {
   "cell_type": "code",
   "execution_count": 13,
   "id": "144ba07f",
   "metadata": {},
   "outputs": [
    {
     "name": "stdout",
     "output_type": "stream",
     "text": [
      "[6. 7. 9. 8. 9. 7. 5.]\n"
     ]
    }
   ],
   "source": [
    "def maxx (x,y):\n",
    "    if x >= y :\n",
    "        return x\n",
    "    else :\n",
    "        return y\n",
    "a = np.array ([5 ,7 ,9 ,8 ,6 ,4 ,5])\n",
    "b = np.array ([6 ,3 ,4 ,8 ,9 ,7 ,1])\n",
    "pair_max = np.vectorize(maxx , otypes =[ float ])\n",
    "print ( pair_max (a,b))"
   ]
  },
  {
   "cell_type": "code",
   "execution_count": 14,
   "id": "a893cd83",
   "metadata": {},
   "outputs": [
    {
     "name": "stdout",
     "output_type": "stream",
     "text": [
      " Result  [6 7 9 8 9 7 5]\n"
     ]
    }
   ],
   "source": [
    "a = np. array ([5 ,7 ,9 ,8 ,6 ,4 ,5])\n",
    "b = np. array ([6 ,3 ,4 ,8 ,9 ,7 ,1])\n",
    "print (\" Result \",np. where (a<b, b, a))"
   ]
  },
  {
   "cell_type": "code",
   "execution_count": null,
   "id": "f56922ed",
   "metadata": {},
   "outputs": [],
   "source": []
  }
 ],
 "metadata": {
  "kernelspec": {
   "display_name": "Python 3 (ipykernel)",
   "language": "python",
   "name": "python3"
  },
  "language_info": {
   "codemirror_mode": {
    "name": "ipython",
    "version": 3
   },
   "file_extension": ".py",
   "mimetype": "text/x-python",
   "name": "python",
   "nbconvert_exporter": "python",
   "pygments_lexer": "ipython3",
   "version": "3.10.9"
  }
 },
 "nbformat": 4,
 "nbformat_minor": 5
}
